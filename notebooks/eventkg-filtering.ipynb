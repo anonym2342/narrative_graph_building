{
 "cells": [
  {
   "cell_type": "markdown",
   "metadata": {},
   "source": [
    "# EventKG Filtering\n",
    "\n",
    "Exploring EventKG using:\n",
    "- Dask for reading and filtering \n",
    "- csv format for saving\n",
    "\n",
    "- EventKG 3.0\n",
    "- pandas==1.4.2\n",
    "- dask==2022.3.0\n",
    "\n",
    "Aim = select content to later explore in GraphDB, getting rid of the parser error"
   ]
  },
  {
   "cell_type": "code",
   "execution_count": null,
   "metadata": {},
   "outputs": [],
   "source": [
    "import os\n",
    "import csv\n",
    "import pandas as pd\n",
    "import dask.dataframe as dd\n",
    "from settings import FOLDER_PATH"
   ]
  },
  {
   "cell_type": "code",
   "execution_count": null,
   "metadata": {},
   "outputs": [],
   "source": [
    "#TO DO: change path to the EventKG dataset if stored elsewhere\n",
    "EVENTKG_FOLDER = os.path.join(FOLDER_PATH, \"eventkg\")"
   ]
  },
  {
   "cell_type": "code",
   "execution_count": null,
   "metadata": {},
   "outputs": [],
   "source": [
    "def sep_col(x_content):\n",
    "\tsep = x_content.strip().split(\" <\")\n",
    "\tval = sep[1] if len(sep) > 1 else \"\"\n",
    "\treturn val\n",
    "\n",
    "def basic_preprocess(x_content):\n",
    "\treturn x_content.replace(\"<\", \"\").strip()\n",
    "\n",
    "def process_object(x_content):\n",
    "\tsep = x_content.strip().split(\" <\")\n",
    "\treturn basic_preprocess(sep[0])\n",
    "\n",
    "def read_nq(folder=None, path=None, preprocess=True,\n",
    "\t\t\tcolumns=[\"subject\", \"predicate\", \"object\", \"meta\"]):\n",
    "\tif not (folder or path):\n",
    "\t\traise ValueError(\"Either `folder` or `path` must be specified\")\n",
    "\t\n",
    "\tif folder:\n",
    "\t\tto_read = f'{folder}/*.nq'\n",
    "\telse:\n",
    "\t\tto_read = path\n",
    "\n",
    "\tdf=dd.read_csv(to_read, sep='>',\n",
    "\t\t\t\t   names=[\"subject\", \"predicate\", \"object\", \"meta\", \".\"],\n",
    "\t\t\t\t   on_bad_lines='skip')\n",
    "\n",
    "\tif preprocess:\n",
    "\t\tdf.subject = df.subject.apply(basic_preprocess, meta=('subject', 'str'))\n",
    "\t\tdf.predicate = df.predicate.apply(basic_preprocess, meta=('predicate', 'str'))\n",
    "\t\tdf.meta = df[[\"object\", \"meta\"]].apply(lambda row: basic_preprocess(row.meta) \\\n",
    "\t\t\t\t\t\t\t\t\t\t\t\t\t\t\tif row.meta.strip() != '.' \\\n",
    "\t\t\t\t\t\t\t\t\t\t\t\t\t\t\telse sep_col(row.object), meta=('meta', 'str'), axis=1)\n",
    "\t\tdf.object = df.object.apply(process_object, meta=('object', 'str'))\n",
    "\n",
    "\treturn df[columns]"
   ]
  },
  {
   "cell_type": "markdown",
   "metadata": {},
   "source": [
    "## 1. relations_base.nq\n",
    "\n",
    "Only keeping in this file the following predicates: `sem:hasSubEvent`, `sem:hasBeginTimeStamp` and `sem:hasEndTimeStamp`.\n",
    "\n",
    "(prefix sem: <http://semanticweb.cs.vu.nl/2009/11/sem/>)"
   ]
  },
  {
   "cell_type": "code",
   "execution_count": null,
   "metadata": {},
   "outputs": [],
   "source": [
    "PREDICATES_TO_KEEP = [\n",
    "    \" <http://semanticweb.cs.vu.nl/2009/11/sem/hasSubEvent\",\n",
    "    \" <http://semanticweb.cs.vu.nl/2009/11/sem/hasBeginTimeStamp\",\n",
    "    \" <http://semanticweb.cs.vu.nl/2009/11/sem/hasEndTimeStamp\"\n",
    "]"
   ]
  },
  {
   "cell_type": "code",
   "execution_count": null,
   "metadata": {},
   "outputs": [],
   "source": [
    "df_relations_base_not_preprocessed = read_nq(path=os.path.join(EVENTKG_FOLDER, 'relations_base.nq'),\n",
    "                                             preprocess=False)\n",
    "df_relations_base_sem = \\\n",
    "    df_relations_base_not_preprocessed \\\n",
    "        [df_relations_base_not_preprocessed.predicate.isin(PREDICATES_TO_KEEP)]\n",
    "# df_relations_base_sem.meta = df_relations_base_sem.meta.apply(\n",
    "#     lambda x: x if x == ' .' else f\"{x}> .\", meta=('meta', 'str'))\n",
    "df_relations_base_sem = df_relations_base_sem.compute()"
   ]
  },
  {
   "cell_type": "code",
   "execution_count": null,
   "metadata": {},
   "outputs": [],
   "source": [
    "for _, row in df_relations_base_sem[df_relations_base_sem.predicate==' <http://semanticweb.cs.vu.nl/2009/11/sem/hasBeginTimeStamp'].head(1).iterrows():\n",
    "    print('>'.join([row.subject, row.predicate, row.object, row.meta]))\n",
    "\n",
    "print(\"=====\")\n",
    "\n",
    "for _, row in df_relations_base_sem[df_relations_base_sem.predicate==' <http://semanticweb.cs.vu.nl/2009/11/sem/hasSubEvent'].head(1).iterrows():\n",
    "    print('>'.join([row.subject, row.predicate, row.object, row.meta]))"
   ]
  },
  {
   "cell_type": "code",
   "execution_count": null,
   "metadata": {},
   "outputs": [],
   "source": [
    "df_relations_base_sem \\\n",
    "    .to_csv('relations_base_filtered.nq', sep=\">\", index=False, header=False,\n",
    "            quoting=csv.QUOTE_NONE, escapechar=\"\", line_terminator='\\n')"
   ]
  },
  {
   "cell_type": "code",
   "execution_count": null,
   "metadata": {},
   "outputs": [],
   "source": [
    "process = lambda line: line if line[-2] == '.' else line.replace(\"\\n\", \"> .\\n\")\n",
    "\n",
    "lines = open('relations_base_filtered.nq')\n",
    "lines=[process(line) for line in lines]\n",
    "f = open('relations_base_filtered.nq', \"w+\")\n",
    "f.write(\"\".join(lines))\n",
    "f.close()"
   ]
  },
  {
   "cell_type": "markdown",
   "metadata": {},
   "source": [
    "## 2. events.nq\n",
    "\n",
    "Retrieving in this file mapping from EventKG to generic KGs (DBpedia, Wikidata, YAGO)\n",
    "1. Retrieving from `relations_base.nq` URIs of events that are ?subject or ?object in triples similar to `(?subject, sem:hasSubEvent, ?object)`\n",
    "2. Retrieving from `events.nq` triples (?s, owl:sameAs, ?o) s.t. ?s is an event from step 1.\n",
    "\n",
    "`PREFIX owl: <http://www.w3.org/2002/07/owl#>`\n",
    "\n"
   ]
  },
  {
   "cell_type": "code",
   "execution_count": null,
   "metadata": {},
   "outputs": [],
   "source": [
    "df_relations_base_only_events = read_nq(path='relations_base_filtered.nq', preprocess=False)\n",
    "df_relations_base_only_events = df_relations_base_only_events \\\n",
    "    [df_relations_base_only_events.predicate == ' <http://semanticweb.cs.vu.nl/2009/11/sem/hasSubEvent'].compute()\n",
    "\n",
    "events_subject = df_relations_base_only_events.subject.unique()\n",
    "events_object = df_relations_base_only_events.object.unique()\n",
    "events_object = [elt[1:] for elt in events_object]"
   ]
  },
  {
   "cell_type": "code",
   "execution_count": null,
   "metadata": {},
   "outputs": [],
   "source": [
    "df_events = read_nq(path=os.path.join(EVENTKG_FOLDER, 'events.nq'),\n",
    "                    preprocess=False,\n",
    "                    columns=[\"subject\", \"predicate\", \"object\", \"meta\", \".\"])\n",
    "df_events.head(2)"
   ]
  },
  {
   "cell_type": "code",
   "execution_count": null,
   "metadata": {},
   "outputs": [],
   "source": [
    "df_events_filtered = df_events[((df_events.subject.isin(events_subject)) | (df_events.subject.isin(events_object))) & \\\n",
    "                               (df_events.predicate == \" <http://www.w3.org/2002/07/owl#sameAs\")]\n",
    "df_events_filtered.head(2)"
   ]
  },
  {
   "cell_type": "code",
   "execution_count": null,
   "metadata": {},
   "outputs": [],
   "source": [
    "df_events_filtered = df_events_filtered.compute()"
   ]
  },
  {
   "cell_type": "code",
   "execution_count": null,
   "metadata": {},
   "outputs": [],
   "source": [
    "columns = df_events_filtered.columns\n",
    "df_events_filtered['concat'] = df_events_filtered.apply(\n",
    "    lambda row: \" \".join([row[x] for x in columns]), axis=1\n",
    ")\n",
    "\n",
    "df_events_filtered['to_keep'] = df_events_filtered.concat.apply(\n",
    "    lambda x: 0 if any(elt in x for elt in ['\"', '\\\\', '”']) else 1\n",
    ")\n",
    "df_events_filtered.head(2)"
   ]
  },
  {
   "cell_type": "code",
   "execution_count": null,
   "metadata": {},
   "outputs": [],
   "source": [
    "df_events_filtered \\\n",
    "    [df_events_filtered.to_keep == 1] \\\n",
    "        [[\"subject\", \"predicate\", \"object\", \"meta\", \".\"]] \\\n",
    "            .to_csv('events_filtered.nq', sep='>', index=False, header=False)"
   ]
  },
  {
   "cell_type": "code",
   "execution_count": null,
   "metadata": {},
   "outputs": [],
   "source": [
    "print(\"Different KG used:\")\n",
    "for elt in df_events_filtered.meta.unique():\n",
    "    print(elt)"
   ]
  },
  {
   "cell_type": "code",
   "execution_count": null,
   "metadata": {},
   "outputs": [],
   "source": [
    "df_events_filtered.groupby('meta').agg({\"subject\": \"count\"}).sort_values(by=\"subject\", ascending=False)"
   ]
  },
  {
   "cell_type": "code",
   "execution_count": null,
   "metadata": {},
   "outputs": [],
   "source": []
  }
 ],
 "metadata": {
  "interpreter": {
   "hash": "afb6971e04c6e62d7bdf87aae553a4c9fea1ded343f2e99e4ce796810d312f94"
  },
  "kernelspec": {
   "display_name": "Python 3.9.7 ('graph_search_framework')",
   "language": "python",
   "name": "python3"
  },
  "language_info": {
   "codemirror_mode": {
    "name": "ipython",
    "version": 3
   },
   "file_extension": ".py",
   "mimetype": "text/x-python",
   "name": "python",
   "nbconvert_exporter": "python",
   "pygments_lexer": "ipython3",
   "version": "3.9.7"
  },
  "orig_nbformat": 4
 },
 "nbformat": 4,
 "nbformat_minor": 2
}
